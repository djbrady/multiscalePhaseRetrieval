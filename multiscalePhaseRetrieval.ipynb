{
  "nbformat": 4,
  "nbformat_minor": 0,
  "metadata": {
    "colab": {
      "name": "multiscalePhaseRetrieval.ipynb",
      "provenance": [],
      "collapsed_sections": [],
      "include_colab_link": true
    },
    "kernelspec": {
      "display_name": "Python 3",
      "language": "python",
      "name": "python3"
    },
    "language_info": {
      "codemirror_mode": {
        "name": "ipython",
        "version": 3
      },
      "file_extension": ".py",
      "mimetype": "text/x-python",
      "name": "python",
      "nbconvert_exporter": "python",
      "pygments_lexer": "ipython3",
      "version": "3.6.8"
    }
  },
  "cells": [
    {
      "cell_type": "markdown",
      "metadata": {
        "id": "view-in-github",
        "colab_type": "text"
      },
      "source": [
        "<a href=\"https://colab.research.google.com/github/djbrady/multiscalePhaseRetrieval/blob/main/multiscalePhaseRetrieval.ipynb\" target=\"_parent\"><img src=\"https://colab.research.google.com/assets/colab-badge.svg\" alt=\"Open In Colab\"/></a>"
      ]
    },
    {
      "cell_type": "markdown",
      "metadata": {
        "id": "tHWYInDtLP-d"
      },
      "source": [
        "# Multiscale Phase Retrieval\n",
        "\n",
        "### David Brady, Timothy J. Schulz, and Chengyu Wang\n",
        "\n",
        "This notebook implements the phase retrieval algorithms described in \"Multiscale Phase Retrieval\".\n",
        "\n",
        "Here we want to reconstruct ${\\bf X}$ from the measurement\n",
        "$${\\bf Y}=|{\\bf AX}|^2$$\n",
        "where $${\\bf X}\\sim CN(0,{\\bf I})$$"
      ]
    },
    {
      "cell_type": "markdown",
      "metadata": {
        "id": "omBCCC8LmSYU"
      },
      "source": [
        "### Libraries"
      ]
    },
    {
      "cell_type": "code",
      "metadata": {
        "id": "Px5zIAokLP-e"
      },
      "source": [
        "import numpy as np\n",
        "import matplotlib.pyplot as plt\n",
        "import pickle\n",
        "import tensorflow as tf\n",
        "tf.compat.v1.disable_eager_execution()\n",
        "import os\n",
        "os.environ['CUDA_VISIBLE_DEVICES'] = '-1'"
      ],
      "execution_count": null,
      "outputs": []
    },
    {
      "cell_type": "markdown",
      "metadata": {
        "id": "rv9Iz9m79UPf"
      },
      "source": [
        "## Error metrics\n",
        "\n",
        "If $\\underline{F}$ is an $N$-element optical field, and an estimate of this field is $\\widehat{\\underline{F}}$.\n",
        "### Global-Phase Adjustment\n",
        "One way to address this is to optimize the MSE over a global phase:\n",
        "\\begin{equation} \n",
        "MSE = \\underset{\\psi}{argmin} \\frac{1}{N} \\left\\| e^{j \\psi} \\underline{F} - \\widehat{\\underline{F}} \\right\\|^2. \n",
        "\\end{equation}\n",
        "\n",
        "### Complex-Amplitude Adjustment\n",
        "If we allow for both an overall phase and amplitude adjustment to the estimate:\n",
        "\\begin{equation} \n",
        "MSE = \\underset{a,\\psi}{argmin} \\frac{1}{N} \\left\\| ae^{j \\psi}\\underline{F} - \\widehat{\\underline{F}} \\right\\|^2. \n",
        "\\end{equation} "
      ]
    },
    {
      "cell_type": "code",
      "metadata": {
        "id": "15aO9ojB9XEF"
      },
      "source": [
        "def minAngMSE(xt,xest):\n",
        "    mse=(np.abs(np.vdot(xt,xt))+np.abs(np.vdot(xest,xest))-2*np.abs(np.vdot(xt,xest)));\n",
        "    return mse/xt.shape[0]\n",
        "def minAmpMSE(xt,xest):\n",
        "    mse=(np.abs(np.vdot(xest,xest))-np.abs(np.vdot(xt,xest))**2/np.abs(np.vdot(xt,xt)));\n",
        "    return mse/xt.shape[0]"
      ],
      "execution_count": null,
      "outputs": []
    },
    {
      "cell_type": "markdown",
      "metadata": {
        "id": "qN38lDGCLP-l"
      },
      "source": [
        "## Holography\n",
        "\n",
        "To understand the quantum limit, consider measurement of the field variable $x$. Unfortunately, at optical and x-ray frequencies, $|x|^2$ is observable, but $x$ is not. Holography addresses this challenge by measuring  \n",
        "\n",
        "\\begin{equation}\n",
        "    y=|r+x|^2\n",
        "\\end{equation}\n",
        "\n",
        "where $r$ is a known reference signal. The reference and signal waves can be separated in post processing applying various spatial and/or temporal coding strategies. For example, the phase quadrature strategy takes 4 measurements of the form\n",
        "\n",
        "\\begin{align}\n",
        "      y_1&=|x+r|^2\\\\\n",
        "      y_2&=|x-r|^2\\\\\n",
        "      y_3&=|x-ir|^2\\\\\n",
        "      y_4&=|x+ir|^2\n",
        "\\end{align}\n",
        "\n",
        "We can estimate $x$ according to \n",
        "\n",
        "\\begin{align}\n",
        "      \\Re \\left \\lbrace x_{\\rm est}\\right \\rbrace&={{y_1-y_2}\\over {4 r}}\\\\\n",
        "    \\Im \\left \\lbrace x_{\\rm est}\\right \\rbrace&={{y_3-y_4}\\over {4 r}}\n",
        "\\end{align}\n",
        "\n",
        "where we assume $r$ is real."
      ]
    },
    {
      "cell_type": "code",
      "metadata": {
        "id": "oV27fsGmLP-l"
      },
      "source": [
        "def run_holography(n,NP,ref=100000,num_trial = 10000):\n",
        "    # This function returns the mean square error for phase quadrature holographic measurement of n modes with random Gaussian distribution\n",
        "    # Input:\n",
        "    # n: signal dimension\n",
        "    # NP: expected number of photons if the signal amplitude is 1\n",
        "    # ref: reference beam amplitude, assuming a real number\n",
        "    # num_trial: number of simulations\n",
        "    \n",
        "    for photons in NP:\n",
        "        Error_ang = 0\n",
        "        Error_amp = 0\n",
        "        Error_cor = 0\n",
        "        for ct in range(num_trial):\n",
        "            xt = np.random.randn(n,1)+1j*np.random.randn(n,1);\n",
        "            xt = np.sqrt(photons)*xt/np.sqrt(2.)\n",
        "            a = np.random.poisson(np.power(np.abs(ref+xt/2),2));\n",
        "            b = np.random.poisson(np.power(np.abs(ref-xt/2),2));\n",
        "            c = np.random.poisson(np.power(np.abs(ref-1j*xt/2),2));\n",
        "            d = np.random.poisson(np.power(np.abs(ref+1j*xt/2),2));\n",
        "            xest = 2 * ((a-b) + 1j*(c-d))/(4*ref)\n",
        "            Error_ang += minAngMSE(xt,xest)\n",
        "            Error_amp += minAmpMSE(xt,xest) \n",
        "        Error_ang = Error_ang/num_trial\n",
        "        Error_amp = Error_amp/num_trial\n",
        "        print('When n = %d, photons = %d'%(n,photons))\n",
        "        print('MSE after global phase adjustment is %f, after complex-amplitude adjustment is %f'%(Error_ang,Error_amp))   \n"
      ],
      "execution_count": null,
      "outputs": []
    },
    {
      "cell_type": "code",
      "metadata": {
        "scrolled": true,
        "id": "GNHYTTWhmNwJ",
        "outputId": "b4e48c1c-940b-41bb-e316-47c2eca65655"
      },
      "source": [
        "run_holography(2,[10000,1000,100])"
      ],
      "execution_count": null,
      "outputs": [
        {
          "output_type": "stream",
          "text": [
            "When n = 2, photons = 10000\n",
            "MSE after global phase adjustment is 0.758983, after complex-amplitude adjustment is 0.504430\n",
            "When n = 2, photons = 1000\n",
            "MSE after global phase adjustment is 0.749349, after complex-amplitude adjustment is 0.495143\n",
            "When n = 2, photons = 100\n",
            "MSE after global phase adjustment is 0.751809, after complex-amplitude adjustment is 0.504196\n"
          ],
          "name": "stdout"
        }
      ]
    },
    {
      "cell_type": "code",
      "metadata": {
        "id": "ld6ME71jmNwM"
      },
      "source": [
        ""
      ],
      "execution_count": null,
      "outputs": []
    },
    {
      "cell_type": "markdown",
      "metadata": {
        "id": "8y0YiRkwmNwR"
      },
      "source": [
        "## Random connections (L = 2)\n",
        "For each group of L = 2 modes, three measurements are taken with the transform\n",
        "\n",
        "\n",
        "\\begin{equation}\n",
        "{\\bf A}= \n",
        "{1\\over \\sqrt{3}}\\left[\n",
        "  \\begin{array}{cc}\n",
        "  {1} & {1}\\\\\n",
        "  {1}&{\\exp(i\\frac{2\\pi}{3})} \\\\\n",
        "  {1}&{\\exp(i\\frac{4\\pi}{3})} \n",
        "  \\end{array}\n",
        "\\right].\n",
        "\\end{equation}\n",
        "We consider fields with $2^k$ modes, and each mode is measured $2k$ times."
      ]
    },
    {
      "cell_type": "code",
      "metadata": {
        "id": "_VmflBVLmNwR"
      },
      "source": [
        "def randM(n,m):\n",
        "    \n",
        "    # This function generates the random connection network given n and m.\n",
        "    # n: signal dimension\n",
        "    # m: number of connections for each mode\n",
        "    \n",
        "    mat=np.zeros((np.int32(n*m/2),n));\n",
        "    nc=m*np.ones(n);\n",
        "    pairs=np.zeros((np.int32(n*m/2),2))\n",
        "    row=0;\n",
        "    for pip in range(n-1):\n",
        "        cons=np.array([pip])\n",
        "        remain_pair = 0\n",
        "        for tmp in range(pip+1,n):\n",
        "            if nc[tmp]>0:\n",
        "                remain_pair += 1\n",
        "        if remain_pair < nc[pip]:\n",
        "            return randM(n,m)\n",
        "\n",
        "        while nc[pip]>0:\n",
        "            cp=np.random.randint(pip+1,n);\n",
        "            if (nc[cp]>0 and not (cp in cons)):\n",
        "                cons=np.append(cons,cp);\n",
        "                nc[pip]=nc[pip]-1;\n",
        "                nc[cp]=nc[cp]-1;\n",
        "                mat[row,pip]=1;\n",
        "                mat[row,cp]=-1;\n",
        "                row=row+1;\n",
        "            if row==(np.int32(n*m/2)):\n",
        "                nc[:]=0\n",
        "    if not np.min(np.sum(abs(mat),0)) == np.max(np.sum(abs(mat),0)):\n",
        "        return randM(n,m)\n",
        "    return mat"
      ],
      "execution_count": null,
      "outputs": []
    },
    {
      "cell_type": "code",
      "metadata": {
        "id": "Ks83HWQBmNwU"
      },
      "source": [
        "def run_multiscale_global(k,ratio,A,photons = 10000,num_trial = 100,starter_learning_rate = 0.1,decay_step = 50,decay_rate = 0.7,num_iter = 200,returnError = False):\n",
        "    # this function returns the mean square error for measurement of field consisting of 2^k modes, modes are randomly connected to p=ratio log n othermodes for pairwise measurement\n",
        "    #  according to matrix A.\n",
        "    ## Key inputs:\n",
        "    # k: consider signal dimension n = 2^k\n",
        "    # ratio: number of connections for each mode is m = ratio * log2(n) = ratio * k\n",
        "    # A: measurement matrix\n",
        "    \n",
        "    ## dimensions\n",
        "    n = 2**k\n",
        "    m = ratio * k\n",
        "    num_pair = int(n * m/2)\n",
        "    \n",
        "    ## measurement matrix\n",
        "    A_real = tf.constant(np.real(A),dtype = tf.float32)\n",
        "    A_imag = tf.constant(np.imag(A),dtype = tf.float32) \n",
        "    \n",
        "    ## allow generating random mapping for n > 2**12 from n = 2**12. \n",
        "    if k < 13:\n",
        "        if os.path.isfile('measurement_matrix/n_%d_m_%d.txt'%(n,m)):\n",
        "            with open('measurement_matrix/n_%d_m_%d.txt'%(n,m), \"rb\") as fp:\n",
        "                Connection_indices = pickle.load(fp)\n",
        "        else:\n",
        "            mat = randM(n,m)\n",
        "            Connection_indices = []\n",
        "            for i in range(num_pair):\n",
        "                Connection_indices.append([2*i,np.where(mat[i,:] == 1)[0][0]])\n",
        "                Connection_indices.append([2*i+1,np.where(mat[i,:] == -1)[0][0]])\n",
        "            with open('measurement_matrix/n_%d_m_%d.txt'%(n,m), \"wb\") as fp:\n",
        "                pickle.dump(Connection_indices, fp)\n",
        "    else:\n",
        "        if os.path.isfile('measurement_matrix/n_%d_m_%d.txt'%(n,m)):\n",
        "            with open('measurement_matrix/n_%d_m_%d.txt'%(n,m), \"rb\") as fp:\n",
        "                Connection_indices = pickle.load(fp)\n",
        "        else:\n",
        "            with open('measurement_matrix/n_%d_m_%d.txt'%(2**(k-1),ratio*(k-1)), \"rb\") as fp:\n",
        "                Connection_indices = pickle.load(fp)\n",
        "            length = len(Connection_indices)\n",
        "            for i in range(length):\n",
        "                Connection_indices.append([Connection_indices[i][0]+length,Connection_indices[i][1]+2**(k-1)])\n",
        "            if ratio == 1:\n",
        "                IDX = len(Connection_indices)\n",
        "                for i in range(2**(k-1)):\n",
        "                    Connection_indices.append([IDX+2*i,i])\n",
        "                    Connection_indices.append([IDX+2*i+1,i+2**(k-1)])\n",
        "            elif ratio == 2:\n",
        "                shuffle1 = np.arange(0,2**(k-1))\n",
        "                shuffle2 = np.arange(0,2**(k-1))\n",
        "                while np.sum(shuffle1 == shuffle2)>0:\n",
        "                    np.random.shuffle(shuffle1)\n",
        "                    np.random.shuffle(shuffle2)\n",
        "                IDX = len(Connection_indices)\n",
        "                for i in range(2**(k-1)):\n",
        "                    Connection_indices.append([IDX+4*i,i])\n",
        "                    Connection_indices.append([IDX+4*i+1,2**(k-1)+shuffle1[i]])\n",
        "                    Connection_indices.append([IDX+4*i+2,i])\n",
        "                    Connection_indices.append([IDX+4*i+3,2**(k-1)+shuffle2[i]])\n",
        "                    \n",
        "            elif ratio == 3:\n",
        "                shuffle1 = np.arange(0,2**(k-1))\n",
        "                shuffle2 = np.arange(0,2**(k-1))\n",
        "                shuffle3 = np.arange(0,2**(k-1))\n",
        "                while np.sum(shuffle1 == shuffle2) + np.sum(shuffle1 == shuffle3) + np.sum(shuffle2 == shuffle3)>0:\n",
        "                    np.random.shuffle(shuffle1)\n",
        "                    np.random.shuffle(shuffle2)\n",
        "                    np.random.shuffle(shuffle3)\n",
        "                IDX = len(Connection_indices)\n",
        "                for i in range(2**(k-1)):\n",
        "                    Connection_indices.append([IDX+6*i,i])\n",
        "                    Connection_indices.append([IDX+6*i+1,2**(k-1)+shuffle1[i]])\n",
        "                    Connection_indices.append([IDX+6*i+2,i])\n",
        "                    Connection_indices.append([IDX+6*i+3,2**(k-1)+shuffle2[i]])\n",
        "                    Connection_indices.append([IDX+6*i+4,i])\n",
        "                    Connection_indices.append([IDX+6*i+5,2**(k-1)+shuffle3[i]])     \n",
        "            else:\n",
        "                print('Ratio not supported')\n",
        "                \n",
        "            with open('measurement_matrix/n_%d_m_%d.txt'%(n,m), \"wb\") as fp:\n",
        "                pickle.dump(Connection_indices, fp)\n",
        "    values = [1.0] * 2 * num_pair\n",
        "    Connection_matrix = tf.sparse.SparseTensor(Connection_indices, values, dense_shape=[2 * num_pair,n]) \n",
        "\n",
        "    xest_real = tf.Variable(np.random.randn(n,1),dtype = tf.float32)\n",
        "    xest_imag = tf.Variable(np.random.randn(n,1),dtype = tf.float32)\n",
        "    xest_pair_real =  tf.reshape(tf.sparse.sparse_dense_matmul(Connection_matrix,xest_real, adjoint_a=False, adjoint_b=False, name=None),[num_pair,2,1])\n",
        "    xest_pair_imag =  tf.reshape(tf.sparse.sparse_dense_matmul(Connection_matrix,xest_imag, adjoint_a=False, adjoint_b=False, name=None),[num_pair,2,1])\n",
        "    Y = tf.compat.v1.placeholder(tf.float32, shape=(None,3,1))\n",
        "    yest_real = tf.matmul(A_real,xest_pair_real) - tf.matmul(A_imag,xest_pair_imag)\n",
        "    yest_imag = tf.matmul(A_real,xest_pair_imag) + tf.matmul(A_imag,xest_pair_real)  \n",
        "    loss = tf.norm(Y-tf.sqrt(yest_real*yest_real + yest_imag*yest_imag))\n",
        "    global_step = tf.Variable(0, trainable=False)\n",
        "    learning_rate = tf.compat.v1.train.exponential_decay(starter_learning_rate,global_step, decay_step,decay_rate, staircase=True)\n",
        "\n",
        "    optimizer= tf.compat.v1.train.AdamOptimizer(learning_rate).minimize(loss,global_step=global_step)\n",
        "    init = tf.compat.v1.global_variables_initializer()\n",
        "    sess = tf.compat.v1.Session()\n",
        "    \n",
        "    \n",
        "    Error_ang = 0\n",
        "    Error_amp = 0\n",
        "\n",
        "    for ct in range(num_trial):\n",
        "        # Signal\n",
        "        xt = np.random.randn(n,1)+1j*np.random.randn(n,1)\n",
        "        xt = np.sqrt(photons)*xt/np.sqrt(2.)\n",
        "        xt = xt/np.sqrt(m) ## each mode is measured m times       \n",
        "        \n",
        "        # Measurement\n",
        "        y = np.zeros(np.hstack([num_pair, A.shape[0],1]))\n",
        "        for i in range(num_pair):\n",
        "            y[i,:,0] = np.sqrt(np.random.poisson(np.power(np.abs(np.matmul(A,[xt[Connection_indices[2*i][1]][0],xt[Connection_indices[2*i+1][1]][0]])),2)))\n",
        "\n",
        "        sess.run(init)\n",
        "        for iter_ in range(num_iter):\n",
        "            sess.run(optimizer,feed_dict={Y: y})\n",
        "        xest = 1j * xest_imag.eval(sess) + xest_real.eval(sess)     \n",
        "        Error_ang += minAngMSE(xt*np.sqrt(m),xest*np.sqrt(m))\n",
        "        Error_amp += minAmpMSE(xt*np.sqrt(m),xest*np.sqrt(m))\n",
        "    Error_ang = Error_ang/num_trial\n",
        "    Error_amp = Error_amp/num_trial\n",
        "    print('When n = %d, each mode is measured m = %d times, photons = %d'%(n,m,photons))\n",
        "    print('MSE after global phase adjustment is %f, after complex-amplitude adjustment is %f'%(Error_ang,Error_amp)) \n",
        "    if returnError == True:\n",
        "        return Error_amp,Error_ang\n",
        "   "
      ],
      "execution_count": null,
      "outputs": []
    },
    {
      "cell_type": "code",
      "metadata": {
        "scrolled": false,
        "id": "iSVnmDqSmNwY",
        "outputId": "8e02c7d3-d7c2-44b5-c162-a2518ddde5d6"
      },
      "source": [
        "A = np.array([[1,1], [1, np.exp(1j*2*np.pi/3)],[1,np.exp(1j*4*np.pi/3)]]);\n",
        "A = np.divide(A,np.sqrt(np.sum(abs(A)*abs(A),0,keepdims=True)))\n",
        "for i in range(5):\n",
        "    run_multiscale_global(i + 3,2,A,photons = 10000,num_trial = 100,starter_learning_rate = 50.0,decay_step = 50,decay_rate = 0.5,num_iter = 200)"
      ],
      "execution_count": null,
      "outputs": [
        {
          "output_type": "stream",
          "text": [
            "WARNING:tensorflow:From /usr/local/lib/python3.6/dist-packages/tensorflow_core/python/ops/resource_variable_ops.py:1630: calling BaseResourceVariable.__init__ (from tensorflow.python.ops.resource_variable_ops) with constraint is deprecated and will be removed in a future version.\n",
            "Instructions for updating:\n",
            "If using Keras pass *_constraint arguments to layers.\n",
            "When n = 8, each mode is measured m = 6 times, photons = 10000\n",
            "MSE after global phase adjustment is 1.144499, after complex-amplitude adjustment is 1.086176\n",
            "When n = 16, each mode is measured m = 8 times, photons = 10000\n",
            "MSE after global phase adjustment is 1.274176, after complex-amplitude adjustment is 1.247131\n",
            "When n = 32, each mode is measured m = 10 times, photons = 10000\n",
            "MSE after global phase adjustment is 1.336253, after complex-amplitude adjustment is 1.326698\n",
            "When n = 64, each mode is measured m = 12 times, photons = 10000\n",
            "MSE after global phase adjustment is 1.323647, after complex-amplitude adjustment is 1.317514\n",
            "When n = 128, each mode is measured m = 14 times, photons = 10000\n",
            "MSE after global phase adjustment is 1.345483, after complex-amplitude adjustment is 1.339576\n"
          ],
          "name": "stdout"
        }
      ]
    },
    {
      "cell_type": "code",
      "metadata": {
        "id": "P9ECP7pmmNwa"
      },
      "source": [
        ""
      ],
      "execution_count": null,
      "outputs": []
    },
    {
      "cell_type": "markdown",
      "metadata": {
        "id": "4-PneZp2mNwc"
      },
      "source": [
        "## Multiscale strategy\n",
        "The field is divided into several rank 0 blocks. Phase retrieval is applied to each block, and the cross-blocks connections are used to retrieve the relative phases between blocks."
      ]
    },
    {
      "cell_type": "code",
      "metadata": {
        "id": "ONgAa2ZTmNwc"
      },
      "source": [
        "def run_multiscale(k,base,ratio,A,phase_ratio = 0.95,photons = 10000, num_trial = 100,starter_learning_rate = 50.0, decay_step = 50, decay_rate = 0.5, num_iter = 200,returnError = False):\n",
        "    ## this function returns the mean square error for block wise phase retrieval according to the strategy outlined in the paper. \n",
        "    ## Key Inputs:\n",
        "    # k: consider signal dimension 2^k\n",
        "    # base: size of the rank 0 block 2^base\n",
        "    # ratio: number of connections for each point is ratio * log2(n)\n",
        "    # A: measurement matrix\n",
        "    # phase_ratio: the ratio of the energy that is used on within-block connections\n",
        "    \n",
        "    ## dimensions\n",
        "    n = 2 ** k \n",
        "#     phase_ratio = 0.95\n",
        "    m = ratio * k\n",
        "    n_base = 2 ** base\n",
        "    m_base = ratio * base\n",
        "\n",
        "    num_pair = int(n * m/2)\n",
        "    num_pair_base = int(n_base * m_base/2)\n",
        "\n",
        "\n",
        "    ## measurement matrix\n",
        "    A_real = tf.constant(np.real(A),dtype = tf.float32)\n",
        "    A_imag = tf.constant(np.imag(A),dtype = tf.float32)\n",
        "\n",
        "\n",
        "    ## Base Connection\n",
        "    if os.path.isfile('measurement_matrix/base_n_%d_m_%d.txt'%(n_base,m_base)):\n",
        "#         print('measurement_matrix/base_n_%d_m_%d.txt'%(n_base,m_base))\n",
        "        with open('measurement_matrix/base_n_%d_m_%d.txt'%(n_base,m_base), \"r\") as file:\n",
        "            Connection_indices = eval(file.readline())\n",
        "    else:\n",
        "        mat = randM(n_base,m_base)\n",
        "        Connection_indices = []\n",
        "        for i in range(num_pair_base):\n",
        "            Connection_indices.append([2*i,np.where(mat[i,:] == 1)[0][0]])\n",
        "            Connection_indices.append([2*i+1,np.where(mat[i,:] == -1)[0][0]])\n",
        "        with open('measurement_matrix/base_n_%d_m_%d.txt'%(n_base,m_base), \"w\") as file:\n",
        "            file.write(str(Connection_indices))\n",
        "    values = [1.0] * 2 * num_pair_base\n",
        "    Connection_matrix = tf.sparse.SparseTensor(Connection_indices, values, dense_shape=[2 * num_pair_base,n_base]) \n",
        "\n",
        "    xest_real = tf.Variable(np.random.randn(n_base,1),dtype = tf.float32)\n",
        "    xest_imag = tf.Variable(np.random.randn(n_base,1),dtype = tf.float32)\n",
        "    xest_pair_real =  tf.reshape(tf.sparse.sparse_dense_matmul(Connection_matrix,xest_real, adjoint_a=False, adjoint_b=False, name=None),[num_pair_base,2,1])\n",
        "    xest_pair_imag =  tf.reshape(tf.sparse.sparse_dense_matmul(Connection_matrix,xest_imag, adjoint_a=False, adjoint_b=False, name=None),[num_pair_base,2,1])\n",
        "    yest_real = tf.matmul(A_real,xest_pair_real) - tf.matmul(A_imag,xest_pair_imag)\n",
        "    yest_imag = tf.matmul(A_real,xest_pair_imag) + tf.matmul(A_imag,xest_pair_real)\n",
        "\n",
        "    Y = tf.compat.v1.placeholder(tf.float32, shape=(None,A.shape[0],1))\n",
        "    loss = tf.norm(Y-tf.sqrt(yest_real*yest_real + yest_imag*yest_imag))\n",
        "    global_step = tf.Variable(0, trainable=False)\n",
        "    learning_rate = tf.compat.v1.train.exponential_decay(starter_learning_rate,global_step, decay_step,decay_rate, staircase=True)\n",
        "\n",
        "    optimizer= tf.compat.v1.train.AdamOptimizer(learning_rate).minimize(loss,global_step=global_step)\n",
        "\n",
        "\n",
        "    ## Cross-cell connection \n",
        "    if os.path.isfile('measurement_matrix/cross_n_%d_m_%d.txt'%(n_base,m_base)):\n",
        "        with open('measurement_matrix/cross_n_%d_m_%d.txt'%(n_base,m_base), \"r\") as file:\n",
        "            Connection_indices_cross = eval(file.readline())\n",
        "    else:\n",
        "        Connection_indices_cross = []\n",
        "        if ratio == 1:\n",
        "            for i in range(n_base):\n",
        "                Connection_indices_cross.append([2*i,i])\n",
        "                Connection_indices_cross.append([2*i+1,i+n_base])\n",
        "        elif ratio == 2:\n",
        "            shuffle1 = np.arange(0,n_base)\n",
        "            shuffle2 = np.arange(0,n_base)\n",
        "            while np.sum(shuffle1 == shuffle2)>0:\n",
        "                np.random.shuffle(shuffle1)\n",
        "                np.random.shuffle(shuffle2)\n",
        "            for i in range(n_base):\n",
        "                Connection_indices_cross.append([4*i,i])\n",
        "                Connection_indices_cross.append([4*i+1,n_base+shuffle1[i]])\n",
        "                Connection_indices_cross.append([4*i+2,i])\n",
        "                Connection_indices_cross.append([4*i+3,n_base+shuffle2[i]])\n",
        "        with open('measurement_matrix/cross_n_%d_m_%d.txt'%(n_base,m_base), \"w\") as file:\n",
        "            file.write(str(Connection_indices_cross))\n",
        "\n",
        "    values_cross = [1.0] * ratio * n_base * 2\n",
        "    Connection_matrix_cross = tf.sparse.SparseTensor(Connection_indices_cross, values_cross, dense_shape=[ratio * n_base * 2,2*n_base]) \n",
        "\n",
        "    x1_abs = tf.compat.v1.placeholder(tf.float32, shape=(n_base,1))\n",
        "    x1_phase = tf.compat.v1.placeholder(tf.float32, shape=(n_base,1))\n",
        "    x2_real = tf.compat.v1.placeholder(tf.float32, shape=(n_base,1))\n",
        "    x2_imag = tf.compat.v1.placeholder(tf.float32, shape=(n_base,1))\n",
        "    phase_shift = tf.Variable(np.random.randn(1),dtype = tf.float32)\n",
        "    x_real = tf.concat([x1_abs * tf.math.cos(x1_phase + phase_shift),x2_real],0)\n",
        "    x_imag = tf.concat([x1_abs * tf.math.sin(x1_phase + phase_shift),x2_imag],0)\n",
        "    xest_pair_real_cross =  tf.reshape(tf.sparse.sparse_dense_matmul(Connection_matrix_cross,x_real, adjoint_a=False, adjoint_b=False, name=None),[ratio * n_base,2,1])\n",
        "    xest_pair_imag_cross =  tf.reshape(tf.sparse.sparse_dense_matmul(Connection_matrix_cross,x_imag, adjoint_a=False, adjoint_b=False, name=None),[ratio * n_base,2,1])\n",
        "    yest_real_cross = tf.matmul(A_real,xest_pair_real_cross) - tf.matmul(A_imag,xest_pair_imag_cross)\n",
        "    yest_imag_cross = tf.matmul(A_real,xest_pair_imag_cross) + tf.matmul(A_imag,xest_pair_real_cross)\n",
        "    Y_cross = tf.compat.v1.placeholder(tf.float32, shape=(None,A.shape[0],1))\n",
        "    loss_cross = tf.norm(Y_cross-tf.sqrt(yest_real_cross*yest_real_cross + yest_imag_cross*yest_imag_cross))\n",
        "    optimizer_cross= tf.compat.v1.train.AdamOptimizer(1.0).minimize(loss_cross,global_step=global_step)\n",
        "    \n",
        "    init = tf.compat.v1.global_variables_initializer()\n",
        "    sess = tf.compat.v1.Session()\n",
        "    \n",
        "    Error_ang = 0\n",
        "    Error_amp = 0\n",
        "    for ct in range(num_trial):\n",
        "\n",
        "    \n",
        "        ## signal\n",
        "        xt = np.random.randn(n,1)+1j*np.random.randn(n,1)\n",
        "        xt = np.sqrt(photons)*xt/np.sqrt(2.)\n",
        "        xt1 = xt * np.sqrt(phase_ratio)/np.sqrt(ratio * base)\n",
        "        xt2 = xt * np.sqrt(1-phase_ratio)/np.sqrt(ratio * (k - base))\n",
        "\n",
        "\n",
        "        init = tf.compat.v1.global_variables_initializer()\n",
        "        sess = tf.compat.v1.Session()\n",
        "\n",
        "        xest = np.zeros([n,1])*1j\n",
        "        for cell_idx in range(2**(k-base)):  \n",
        "            y = np.zeros(np.hstack([num_pair_base, A.shape[0],1]))\n",
        "            for i in range(num_pair_base):\n",
        "                y[i,:,0] = np.sqrt(np.random.poisson(np.power(np.abs(np.matmul(A,[xt1[Connection_indices[2*i][1]+cell_idx * n_base][0],xt1[Connection_indices[2*i+1][1]+cell_idx * n_base][0]])),2)))\n",
        "            \n",
        "            sess.run(init)   \n",
        "            for iter_ in range(num_iter):\n",
        "                sess.run(optimizer,feed_dict={Y: y})\n",
        "            xest[cell_idx * n_base:(cell_idx+1)* n_base] = 1j * xest_imag.eval(sess) + xest_real.eval(sess)\n",
        "\n",
        "        for scale in range(k-base):\n",
        "            for cell_idx in range(2**(k-base-scale-1)):\n",
        "                PHASE = 0\n",
        "                for cell_idx_2 in range(2**scale):\n",
        "                    xt_tmp = np.concatenate([xt2[(cell_idx * 2**(scale+1)+cell_idx_2)*n_base:(cell_idx * 2**(scale+1)+cell_idx_2+1)*n_base,:],xt2[(cell_idx * 2**(scale+1)+cell_idx_2 + 2**scale)*n_base:(cell_idx * 2**(scale+1)+cell_idx_2+ 2**scale+1)*n_base,:]],0)\n",
        "                    y = np.zeros(np.hstack([n_base*ratio, A.shape[0],1]))\n",
        "                    for i in range(n_base*ratio):\n",
        "                        y[i,:,0] = np.sqrt(np.random.poisson(np.power(np.abs(np.matmul(A,[xt_tmp[Connection_indices_cross[2*i][1]][0],xt_tmp[Connection_indices_cross[2*i+1][1]][0]])),2)))\n",
        "                    \n",
        "                    sess.run(init)   \n",
        "                    for iter_ in range(num_iter):\n",
        "                          sess.run(optimizer_cross,feed_dict={x1_abs:np.abs(xest[(cell_idx * 2**(scale+1)+cell_idx_2)*n_base:(cell_idx * 2**(scale+1)+cell_idx_2+1)*n_base,:]).astype(np.float32),\n",
        "                                                            x2_real:np.real(xest[(cell_idx * 2**(scale+1)+cell_idx_2 + 2**scale)*n_base:(cell_idx * 2**(scale+1)+cell_idx_2+ 2**scale+1)*n_base,:]),\n",
        "                                                            x1_phase:np.angle(xest[(cell_idx * 2**(scale+1)+cell_idx_2)*n_base:(cell_idx * 2**(scale+1)+cell_idx_2+1)*n_base,:]).astype(np.float32),\n",
        "                                                            x2_imag:np.imag(xest[(cell_idx * 2**(scale+1)+cell_idx_2 + 2**scale)*n_base:(cell_idx * 2**(scale+1)+cell_idx_2+ 2**scale+1)*n_base,:]),\n",
        "                                                            Y_cross: y/np.sqrt(1-phase_ratio)*np.sqrt(ratio * (k - base))* np.sqrt(phase_ratio)/np.sqrt(ratio * base)})\n",
        "                    PHASE = PHASE + np.exp(1j*phase_shift.eval(sess))\n",
        "                xest[(cell_idx * 2**(scale+1))*n_base:(cell_idx * 2**(scale+1)+2**scale)*n_base] *= (PHASE/abs(PHASE))\n",
        "\n",
        "        xest = xest / np.sqrt(phase_ratio)*np.sqrt(ratio * base)\n",
        "        Error_ang += minAngMSE(xt,xest)\n",
        "        Error_amp += minAmpMSE(xt ,xest)\n",
        "    Error_ang = Error_ang/num_trial\n",
        "    Error_amp = Error_amp/num_trial\n",
        "    \n",
        "    print('When n = %d, each mode is measured m = %d times, photons = %d'%(n,m,photons))\n",
        "    print('MSE after global phase adjustment is %f, after complex-amplitude adjustment is %f'%(Error_ang,Error_amp)) \n",
        "    \n",
        "    if returnError == True:\n",
        "        return Error_amp,Error_ang\n",
        "   "
      ],
      "execution_count": null,
      "outputs": []
    },
    {
      "cell_type": "code",
      "metadata": {
        "id": "KXUYvYW8mNwf",
        "outputId": "37c79ba6-2b15-4b8a-9e2e-83bc7c6b06f4"
      },
      "source": [
        "A = np.array([[1,1], [1, np.exp(1j*2*np.pi/3)],[1,np.exp(1j*4*np.pi/3)]]);\n",
        "A = np.divide(A,np.sqrt(np.sum(abs(A)*abs(A),0,keepdims=True)))\n",
        "# base 10\n",
        "run_multiscale_global(10,2,A,photons = 10000,num_trial = 10,starter_learning_rate = 50.0,decay_step = 50,decay_rate = 0.5,num_iter = 200)\n",
        "for i in range(2):\n",
        "    run_multiscale(11+i,10,2,A,0.95,num_trial = 10,returnError=False)"
      ],
      "execution_count": null,
      "outputs": [
        {
          "output_type": "stream",
          "text": [
            "When n = 1024, each mode is measured m = 20 times, photons = 10000\n",
            "MSE after global phase adjustment is 1.360342, after complex-amplitude adjustment is 1.349953\n",
            "When n = 2048, each mode is measured m = 22 times, photons = 10000\n",
            "MSE after global phase adjustment is 1.976924, after complex-amplitude adjustment is 1.974396\n",
            "When n = 4096, each mode is measured m = 24 times, photons = 10000\n",
            "MSE after global phase adjustment is 1.400889, after complex-amplitude adjustment is 1.398106\n"
          ],
          "name": "stdout"
        }
      ]
    },
    {
      "cell_type": "code",
      "metadata": {
        "id": "WHNcm1L5mNwh"
      },
      "source": [
        ""
      ],
      "execution_count": null,
      "outputs": []
    },
    {
      "cell_type": "markdown",
      "metadata": {
        "id": "lzy4uAS0mNwj"
      },
      "source": [
        "## Random connections (L > 2)\n",
        "For each group of L modes, L measurments are taken with the transform W:\n",
        "\n",
        "\\begin{equation}\n",
        "\\label{eq:wftForm}\n",
        "W_{q,l} = \\frac{1}{\\sqrt{Q}} e^{j \\frac{2\\pi}{Q} q l}.\n",
        "\\end{equation}\n",
        "We consider fields with $2^k$ modes, and each mode is measured $L*k$ times."
      ]
    },
    {
      "cell_type": "code",
      "metadata": {
        "id": "7E7VQQKKmNwl"
      },
      "source": [
        "def elementSampling(ns, m):\n",
        "    # ns: number of measurements per group\n",
        "    # m: number of modes per group\n",
        "    tmp = np.arange(ns)\n",
        "    H = np.zeros([ns,m])*1j\n",
        "    for i in range(m):\n",
        "        H[:,i] = np.exp(1j * i * 2 * np.pi * tmp/ns)/np.sqrt(ns)\n",
        "    return H\n",
        "\n",
        "\n",
        "\n",
        "def run_multiple_mode(n,m,p,ns,photons = 10000, num_trial = 100,starter_learning_rate = 10.0,decay_step = 50,decay_rate = 0.7,num_iter = 200):\n",
        "    # this function returns the MSE for L>2 modes connected in groups according to the strategy outlined in the paper. \n",
        "    # n: number of modes\n",
        "    # m: number of modes per measurement\n",
        "    # p: scale\n",
        "    # ns: number of measurement per group of m modes\n",
        "    # Number of group of m modes: n*p\n",
        "    # Number of intensity/sample: ns * n * p\n",
        "    # Each mode will be measured m * p times\n",
        "    \n",
        "    tf.compat.v1.reset_default_graph()\n",
        "    \n",
        "    ## measurement matrix\n",
        "    A = elementSampling(ns,m)\n",
        "    A_real = tf.constant(np.real(A),dtype = tf.float32)\n",
        "    A_imag = tf.constant(np.imag(A),dtype = tf.float32)\n",
        "    \n",
        "    \n",
        "    ## connections\n",
        "    num_pair = n * p\n",
        "    if os.path.isfile('measurement_matrix/multi_mode_mapping_n%d_m%d_p%d.txt'%(n,m,p)):\n",
        "        with open('measurement_matrix/multi_mode_mapping_n%d_m%d_p%d.txt'%(n,m,p), \"rb\") as fp:\n",
        "            Connection_indices = pickle.load(fp)\n",
        "    else:        \n",
        "        Connection_indices = []\n",
        "        IDX = np.arange(n,dtype = np.int32)\n",
        "        for p_ in range(p):\n",
        "            np.random.shuffle(IDX)\n",
        "            tmp = np.lib.stride_tricks.as_strided(np.concatenate([IDX,IDX[0:m-1]]),shape=(n,m), strides=(4,4)).reshape([-1,1])# % n\n",
        "            tmp2 = np.expand_dims(np.arange(m*n*p_,m*n*(p_+1)),1)\n",
        "            Connection_indices = Connection_indices + np.concatenate([tmp2,tmp],1).tolist()\n",
        "        with open('measurement_matrix/multi_mode_mapping_n%d_m%d_p%d.txt'%(n,m,p), \"wb\") as fp:\n",
        "            pickle.dump(Connection_indices, fp)\n",
        "            \n",
        "            \n",
        "    values = [1.0] * m * num_pair\n",
        "    Connection_matrix = tf.sparse.SparseTensor(Connection_indices, values, dense_shape=[m * num_pair,n])\n",
        "    \n",
        "    ## graph\n",
        "    xest_real = tf.Variable(np.random.randn(n,1),dtype = tf.float32)\n",
        "    xest_imag = tf.Variable(np.random.randn(n,1),dtype = tf.float32)\n",
        "    xest_pair_real =  tf.reshape(tf.sparse.sparse_dense_matmul(Connection_matrix,xest_real, adjoint_a=False, adjoint_b=False, name=None),[num_pair,m,1])\n",
        "    xest_pair_imag =  tf.reshape(tf.sparse.sparse_dense_matmul(Connection_matrix,xest_imag, adjoint_a=False, adjoint_b=False, name=None),[num_pair,m,1])\n",
        "    Y = tf.compat.v1.placeholder(tf.float32, shape=(None,A.shape[0],1))\n",
        "    yest_real = tf.matmul(A_real,xest_pair_real) - tf.matmul(A_imag,xest_pair_imag)\n",
        "    yest_imag = tf.matmul(A_real,xest_pair_imag) + tf.matmul(A_imag,xest_pair_real)\n",
        "    loss = tf.norm(Y-tf.sqrt(yest_real*yest_real + yest_imag*yest_imag))\n",
        "    global_step = tf.Variable(0, trainable=False)\n",
        "    learning_rate = tf.compat.v1.train.exponential_decay(starter_learning_rate,global_step, decay_step,decay_rate, staircase=True)\n",
        "    optimizer= tf.compat.v1.train.AdamOptimizer(learning_rate).minimize(loss,global_step=global_step)\n",
        "    init = tf.compat.v1.global_variables_initializer()\n",
        "    sess = tf.compat.v1.Session()\n",
        "    \n",
        "    AngError = np.zeros([num_trial])\n",
        "    for ct in range(num_trial):\n",
        "        \n",
        "        ## signal\n",
        "        xt = np.random.randn(n,1)+1j*np.random.randn(n,1)\n",
        "        xt = np.sqrt(photons)*xt/np.sqrt(2.)\n",
        "        xt = xt / np.sqrt(m * p)\n",
        "\n",
        "        ## measurement\n",
        "        y = np.zeros(np.hstack([num_pair, A.shape[0],1]))\n",
        "        for i in range(num_pair):\n",
        "            ## assume ns = 3\n",
        "            x_select = []\n",
        "            for m_ in range(m):\n",
        "                x_select.append(xt[Connection_indices[m*i + m_][1]][0])\n",
        "#             y[i,:,0] = np.sqrt(np.random.poisson(np.power(np.abs(np.matmul(A,[xt[Connection_indices[m*i][1]][0],\n",
        "#                                                                               xt[Connection_indices[m*i+1][1]][0],\n",
        "#                                                                               xt[Connection_indices[m*i+2][1]][0],\n",
        "#                                                                               xt[Connection_indices[m*i+3][1]][0]])),2))) \n",
        "            y[i,:,0] = np.sqrt(np.random.poisson(np.power(np.abs(np.matmul(A,x_select)),2))) \n",
        "\n",
        "        ## phase retrieval \n",
        "        sess.run(init)\n",
        "        for iter_ in range(num_iter):\n",
        "            sess.run(optimizer,feed_dict={Y: y})\n",
        "        xest = 1j * xest_imag.eval(sess) + xest_real.eval(sess)\n",
        "    \n",
        "        ## evaluation\n",
        "        AngError[ct] = minAngMSE(xt*np.sqrt(m * p),xest*np.sqrt(m * p))\n",
        "    plt.hist(AngError)\n",
        "    plt.show()\n",
        "    print('Signal dimension: %d, %d modes correlated in each measurement'%(n,m))\n",
        "    print('Each mode is measured %d time'%(m * p))\n",
        "    print('Number of measurements per group: %d, total:%d'%(ns,ns *n * p))\n",
        "    print('Error is',np.mean(AngError))\n",
        "    return(np.mean(AngError))"
      ],
      "execution_count": null,
      "outputs": []
    },
    {
      "cell_type": "code",
      "metadata": {
        "id": "cL5uFV58mNwo",
        "outputId": "45f38040-808c-4d55-d810-e4acb5e783fd"
      },
      "source": [
        "run_multiple_mode(n = 2**10,m = 4,p = 10,ns = 4,photons = 10000, num_trial = 10,starter_learning_rate = 50.0,decay_step = 50,decay_rate = 0.5,num_iter = 200)"
      ],
      "execution_count": null,
      "outputs": [
        {
          "output_type": "display_data",
          "data": {
            "image/png": "[encoded data removed]",
            "text/plain": [
              "<Figure size 432x288 with 1 Axes>"
            ]
          },
          "metadata": {
            "tags": [],
            "needs_background": "light"
          }
        },
        {
          "output_type": "stream",
          "text": [
            "Signal dimension: 1024, 4 modes correlated in each measurement\n",
            "Each mode is measured 40 time\n",
            "Number of measurements per group: 4, total:40960\n",
            "Error is 1.1100574960903031\n"
          ],
          "name": "stdout"
        },
        {
          "output_type": "execute_result",
          "data": {
            "text/plain": [
              "1.1100574960903031"
            ]
          },
          "metadata": {
            "tags": []
          },
          "execution_count": 11
        }
      ]
    },
    {
      "cell_type": "code",
      "metadata": {
        "id": "SiOVZvzumNwr",
        "outputId": "d18b3bbc-9b1f-4ff8-95eb-1d9bf0fc54e4"
      },
      "source": [
        "run_multiple_mode(n = 2**10,m = 5,p = 10,ns = 5,photons = 10000, num_trial = 10,starter_learning_rate = 50.0,decay_step = 50,decay_rate = 0.5,num_iter = 200)"
      ],
      "execution_count": null,
      "outputs": [
        {
          "output_type": "display_data",
          "data": {
            "image/png": "[encoded data removed]",
            "text/plain": [
              "<Figure size 432x288 with 1 Axes>"
            ]
          },
          "metadata": {
            "tags": [],
            "needs_background": "light"
          }
        },
        {
          "output_type": "stream",
          "text": [
            "Signal dimension: 1024, 5 modes correlated in each measurement\n",
            "Each mode is measured 50 time\n",
            "Number of measurements per group: 5, total:51200\n",
            "Error is 1.0961493087281269\n"
          ],
          "name": "stdout"
        },
        {
          "output_type": "execute_result",
          "data": {
            "text/plain": [
              "1.0961493087281269"
            ]
          },
          "metadata": {
            "tags": []
          },
          "execution_count": 12
        }
      ]
    }
  ]
}